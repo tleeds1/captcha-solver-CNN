{
  "nbformat": 4,
  "nbformat_minor": 0,
  "metadata": {
    "colab": {
      "provenance": [],
      "gpuType": "T4"
    },
    "kernelspec": {
      "name": "python3",
      "display_name": "Python 3"
    },
    "language_info": {
      "name": "python"
    },
    "accelerator": "GPU"
  },
  "cells": [
    {
      "cell_type": "code",
      "execution_count": null,
      "metadata": {
        "id": "jvI2bDe92cVQ"
      },
      "outputs": [],
      "source": [
        "import os\n",
        "import random\n",
        "from torch.utils.data import Dataset, DataLoader, random_split\n",
        "from PIL import Image\n",
        "import torch\n",
        "from torchvision import transforms\n",
        "from torch import nn, optim\n",
        "from torchvision.transforms import functional as TF"
      ]
    },
    {
      "cell_type": "code",
      "source": [
        "char_map = {ch: idx for idx, ch in enumerate(\"ABCDEFGHIJKLMNOPQRSTUVWXYZabcdefghijklmnopqrstuvwxyz0123456789\")}\n",
        "num_classes = len(char_map)"
      ],
      "metadata": {
        "id": "kjvvqObg2haF"
      },
      "execution_count": null,
      "outputs": []
    },
    {
      "cell_type": "code",
      "source": [
        "import kagglehub\n",
        "\n",
        "# Download latest version\n",
        "path = kagglehub.dataset_download(\"parsasam/captcha-dataset\")\n",
        "\n",
        "print(\"Path to dataset files:\", path)"
      ],
      "metadata": {
        "colab": {
          "base_uri": "https://localhost:8080/"
        },
        "id": "kyLVu_Uu2sk2",
        "outputId": "6ecd540d-e857-49dd-e193-53f03c6521c0"
      },
      "execution_count": null,
      "outputs": [
        {
          "output_type": "stream",
          "name": "stdout",
          "text": [
            "Downloading from https://www.kaggle.com/api/v1/datasets/download/parsasam/captcha-dataset?dataset_version_number=1...\n"
          ]
        },
        {
          "output_type": "stream",
          "name": "stderr",
          "text": [
            "100%|██████████| 356M/356M [00:02<00:00, 125MB/s]"
          ]
        },
        {
          "output_type": "stream",
          "name": "stdout",
          "text": [
            "Extracting files...\n"
          ]
        },
        {
          "output_type": "stream",
          "name": "stderr",
          "text": [
            "\n"
          ]
        },
        {
          "output_type": "stream",
          "name": "stdout",
          "text": [
            "Path to dataset files: /root/.cache/kagglehub/datasets/parsasam/captcha-dataset/versions/1\n"
          ]
        }
      ]
    },
    {
      "cell_type": "code",
      "source": [
        "class CaptchaDataset(Dataset):\n",
        "    def __init__(self, dataset_path, transform=None):\n",
        "        self.dataset_path = dataset_path\n",
        "        self.transform = transform\n",
        "        self.image_files = [f for f in os.listdir(dataset_path) if f.endswith('.jpg')]\n",
        "\n",
        "    def __len__(self):\n",
        "        return len(self.image_files)\n",
        "\n",
        "    def __getitem__(self, idx):\n",
        "        image_file = self.image_files[idx]\n",
        "        image_path = os.path.join(self.dataset_path, image_file)\n",
        "\n",
        "        image = Image.open(image_path).convert('RGB')\n",
        "\n",
        "        # Extract the label from the file name\n",
        "        label = image_file.split('.')[0]\n",
        "\n",
        "        # Apply transformations to the image\n",
        "        if self.transform:\n",
        "            image = self.transform(image)\n",
        "\n",
        "        # Encode the label as a sequence of integers\n",
        "        label = self._encode_label(label)\n",
        "\n",
        "        return image, label\n",
        "\n",
        "    def _encode_label(self, label):\n",
        "        encoded_label = torch.tensor([char_map[char] for char in label], dtype=torch.long)\n",
        "        return encoded_label\n",
        "\n",
        "# Define the dataset path\n",
        "dataset_path = r\"/root/.cache/kagglehub/datasets/parsasam/captcha-dataset/versions/1\"\n",
        "\n",
        "# Define transformations\n",
        "transform = transforms.Compose([\n",
        "    transforms.Resize((64, 64)),  # Resize to a fixed size\n",
        "    transforms.ToTensor(),  # Convert to tensor\n",
        "])\n",
        "\n",
        "# Create the dataset\n",
        "full_dataset = CaptchaDataset(dataset_path, transform=transform)\n",
        "\n",
        "# Split the dataset into train, val, and test sets\n",
        "total_size = len(full_dataset)\n",
        "train_size = int(0.7 * total_size)\n",
        "val_size = int(0.15 * total_size)\n",
        "test_size = total_size - train_size - val_size\n",
        "\n",
        "train_dataset, val_dataset, test_dataset = random_split(full_dataset, [train_size, val_size, test_size])\n",
        "\n",
        "# Create data loaders\n",
        "batch_size = 32\n",
        "train_loader = DataLoader(train_dataset, batch_size=batch_size, shuffle=True)\n",
        "val_loader = DataLoader(val_dataset, batch_size=batch_size, shuffle=False)\n",
        "test_loader = DataLoader(test_dataset, batch_size=batch_size, shuffle=False)"
      ],
      "metadata": {
        "id": "RnePZwVe2vt9"
      },
      "execution_count": null,
      "outputs": []
    },
    {
      "cell_type": "code",
      "source": [
        "class CaptchaCNN(nn.Module):\n",
        "    def __init__(self, num_classes=62, seq_length=5):\n",
        "        super(CaptchaCNN, self).__init__()\n",
        "        self.conv = nn.Sequential(\n",
        "            nn.Conv2d(3, 32, kernel_size=3, stride=1, padding=1),\n",
        "            nn.ReLU(),\n",
        "            nn.MaxPool2d(kernel_size=2, stride=2),\n",
        "            nn.Conv2d(32, 64, kernel_size=3, stride=1, padding=1),\n",
        "            nn.ReLU(),\n",
        "            nn.MaxPool2d(kernel_size=2, stride=2),\n",
        "            nn.Conv2d(64, 128, kernel_size=3, stride=1, padding=1),\n",
        "            nn.ReLU(),\n",
        "            nn.MaxPool2d(kernel_size=2, stride=2)\n",
        "        )\n",
        "        self.fc = nn.Sequential(\n",
        "            nn.Flatten(),\n",
        "            nn.Linear(128 * 8 * 8, 512),\n",
        "            nn.ReLU(),\n",
        "            nn.Linear(512, num_classes * seq_length)  # Output size: 5 * 62\n",
        "        )\n",
        "\n",
        "    def forward(self, x):\n",
        "        x = self.conv(x)\n",
        "        x = self.fc(x)\n",
        "        return x.view(x.size(0), 5, -1)"
      ],
      "metadata": {
        "id": "Ev-9hS4C2v2W"
      },
      "execution_count": null,
      "outputs": []
    },
    {
      "cell_type": "code",
      "source": [
        "model = CaptchaCNN(num_classes=62, seq_length=5)\n",
        "criterion = nn.CrossEntropyLoss()\n",
        "optimizer = optim.Adam(model.parameters(), lr=0.001)\n",
        "\n",
        "# Training loop\n",
        "num_epochs = 10\n",
        "for epoch in range(num_epochs):\n",
        "    model.train()\n",
        "    train_loss = 0\n",
        "    for images, labels in train_loader:\n",
        "        # Forward pass\n",
        "        outputs = model(images)\n",
        "        loss = 0\n",
        "        for i in range(5):\n",
        "            loss += criterion(outputs[:, i, :], labels[:, i])\n",
        "\n",
        "        # Backward pass and optimization\n",
        "        optimizer.zero_grad()\n",
        "        loss.backward()\n",
        "        optimizer.step()\n",
        "\n",
        "        train_loss += loss.item()\n",
        "\n",
        "    # Validation\n",
        "    model.eval()\n",
        "    val_loss = 0\n",
        "    with torch.no_grad():\n",
        "        for images, labels in val_loader:\n",
        "            outputs = model(images)\n",
        "            loss = 0\n",
        "            for i in range(5):\n",
        "                loss += criterion(outputs[:, i, :], labels[:, i])\n",
        "            val_loss += loss.item()\n",
        "\n",
        "    print(f\"Epoch [{epoch+1}/{num_epochs}], Train Loss: {train_loss/len(train_loader):.4f}, Val Loss: {val_loss/len(val_loader):.4f}\")"
      ],
      "metadata": {
        "colab": {
          "base_uri": "https://localhost:8080/"
        },
        "id": "qrieXiGy2v5P",
        "outputId": "fabfcdbf-664b-43d0-b362-918dfa8d0767"
      },
      "execution_count": null,
      "outputs": [
        {
          "output_type": "stream",
          "name": "stdout",
          "text": [
            "Epoch [1/10], Train Loss: 20.1324, Val Loss: 18.5831\n",
            "Epoch [2/10], Train Loss: 16.2446, Val Loss: 14.4983\n",
            "Epoch [3/10], Train Loss: 13.3555, Val Loss: 12.8905\n",
            "Epoch [4/10], Train Loss: 12.0297, Val Loss: 11.8811\n",
            "Epoch [5/10], Train Loss: 11.2883, Val Loss: 11.4087\n",
            "Epoch [6/10], Train Loss: 10.7984, Val Loss: 11.2571\n",
            "Epoch [7/10], Train Loss: 10.4048, Val Loss: 10.8347\n",
            "Epoch [8/10], Train Loss: 10.0880, Val Loss: 10.7080\n",
            "Epoch [9/10], Train Loss: 9.8460, Val Loss: 10.5751\n",
            "Epoch [10/10], Train Loss: 9.6359, Val Loss: 10.4255\n"
          ]
        }
      ]
    },
    {
      "cell_type": "code",
      "source": [
        "model.eval()\n",
        "correct = 0\n",
        "total = 0\n",
        "with torch.no_grad():\n",
        "    for images, labels in test_loader:\n",
        "        outputs = model(images)\n",
        "        predictions = torch.argmax(outputs, dim=2)  # Get predicted characters\n",
        "        for i in range(len(labels)):\n",
        "            if torch.equal(predictions[i], labels[i]):\n",
        "                correct += 1\n",
        "            total += 1\n",
        "\n",
        "print(f\"Test Accuracy: {100 * correct / total:.2f}%\")"
      ],
      "metadata": {
        "id": "4oKpbJujJRdA"
      },
      "execution_count": null,
      "outputs": []
    },
    {
      "cell_type": "code",
      "source": [
        "# Save the model\n",
        "model.save(\"captcha_5alphanumeric_model.h5\")\n"
      ],
      "metadata": {
        "id": "1drboH9dLM94"
      },
      "execution_count": null,
      "outputs": []
    },
    {
      "cell_type": "code",
      "source": [
        "def preprocess_image(image_path, target_size):\n",
        "    image = Image.open(image_path).convert('RGB')\n",
        "    image = TF.resize(image, target_size)\n",
        "    image = TF.to_tensor(image)\n",
        "    image = image.unsqueeze(0)  # Add batch dimension\n",
        "    return image\n",
        "\n",
        "# Predict the CAPTCHA using the PyTorch model\n",
        "def predict_captcha(image_path, model, char_map, target_size):\n",
        "    # Preprocess the image\n",
        "    image = preprocess_image(image_path, target_size)\n",
        "\n",
        "    # Set the model to evaluation mode\n",
        "    model.eval()\n",
        "\n",
        "    # Perform prediction\n",
        "    with torch.no_grad():\n",
        "        output = model(image)  # Shape: (1, seq_length, num_classes)\n",
        "\n",
        "    # Decode the predicted characters\n",
        "    predicted_indices = torch.argmax(output, dim=2).squeeze(0)  # Shape: (seq_length,)\n",
        "    predicted_characters = \"\".join(char_map[idx.item()] for idx in predicted_indices)\n",
        "\n",
        "    return predicted_characters\n",
        "\n",
        "image_path = \"captcha_test.png\"\n",
        "target_size = (64, 64)  # Must match the model's input size\n",
        "\n",
        "# Define the reverse mapping from indices to characters\n",
        "char_map = {v: k for k, v in char_map.items()}\n",
        "\n",
        "predicted_captcha = predict_captcha(image_path, model, char_map, target_size)\n",
        "print(f\"Predicted CAPTCHA: {predicted_captcha}\")"
      ],
      "metadata": {
        "id": "4CK1lHi3LPW3"
      },
      "execution_count": null,
      "outputs": []
    }
  ]
}